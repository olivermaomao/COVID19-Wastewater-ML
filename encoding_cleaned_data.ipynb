{
 "cells": [
  {
   "cell_type": "code",
   "execution_count": 1,
   "id": "da7f9592-41b3-4557-826a-1e1b66f601e1",
   "metadata": {},
   "outputs": [],
   "source": [
    "import pandas as pd\n",
    "from sklearn.preprocessing import OrdinalEncoder"
   ]
  },
  {
   "cell_type": "code",
   "execution_count": 2,
   "id": "39f4c197-24b9-44ba-8454-c0b82abad556",
   "metadata": {},
   "outputs": [],
   "source": [
    "df = pd.read_csv(\"data_cleaned.csv\", parse_dates=[\"Date\"])"
   ]
  },
  {
   "cell_type": "code",
   "execution_count": 8,
   "id": "c2e9e36c-0869-41e4-aea0-207ec165ea1c",
   "metadata": {},
   "outputs": [
    {
     "name": "stdout",
     "output_type": "stream",
     "text": [
      "<class 'pandas.core.frame.DataFrame'>\n",
      "RangeIndex: 2041 entries, 0 to 2040\n",
      "Data columns (total 27 columns):\n",
      " #   Column                         Non-Null Count  Dtype         \n",
      "---  ------                         --------------  -----         \n",
      " 0   Date                           2041 non-null   datetime64[ns]\n",
      " 1   Site                           2041 non-null   object        \n",
      " 2   Staff Reported Positive Tests  2041 non-null   int64         \n",
      " 3   # of Currently Positive Staff  2041 non-null   int64         \n",
      " 4    Staff Deaths                  2041 non-null   int64         \n",
      " 5   Staff Recovered                2041 non-null   int64         \n",
      " 6   Housing type                   2041 non-null   object        \n",
      " 7   Isolation Inmates              2041 non-null   int64         \n",
      " 8   Positive Inmates               2041 non-null   int64         \n",
      " 9   Confirmed Inmate Deaths        2041 non-null   int64         \n",
      " 10  Pending Results                2041 non-null   int64         \n",
      " 11  Recovered Inmates              2041 non-null   int64         \n",
      " 12  Daily Recovered                922 non-null    float64       \n",
      " 13  N1                             2041 non-null   float64       \n",
      " 14  N2                             2038 non-null   float64       \n",
      " 15  B.1.1.7 (Alpha)                727 non-null    float64       \n",
      " 16  B.1.351 (Beta)                 727 non-null    float64       \n",
      " 17  P.1 (Gamma)                    643 non-null    float64       \n",
      " 18  B.1.617 (Delta)                643 non-null    float64       \n",
      " 19  B.1.427/B.1.429 (Epsilon)      643 non-null    float64       \n",
      " 20  N679K/Q954H (Omicron)          84 non-null     float64       \n",
      " 21  Presumptive Cases              2040 non-null   float64       \n",
      " 22  Average Presumptive Cases      2041 non-null   int64         \n",
      " 23  Y                              2041 non-null   float64       \n",
      " 24  X                              2041 non-null   float64       \n",
      " 25  housing_factor                 2041 non-null   float64       \n",
      " 26  site_factor                    2041 non-null   float64       \n",
      "dtypes: datetime64[ns](1), float64(14), int64(10), object(2)\n",
      "memory usage: 430.6+ KB\n"
     ]
    }
   ],
   "source": [
    "df.info()"
   ]
  },
  {
   "cell_type": "code",
   "execution_count": 4,
   "id": "0408be2c-27c8-46ea-bcff-3f73073fa3f9",
   "metadata": {},
   "outputs": [],
   "source": [
    "# Filling nans in housing type by site. Each Site only has 1 housing type and nan.\n",
    "housing_types_by_site = df.groupby(\"Site\")[\"Housing type\"].transform(\"first\")\n",
    "df[\"Housing type\"] = df[\"Housing type\"].fillna(housing_types_by_site)"
   ]
  },
  {
   "cell_type": "code",
   "execution_count": 5,
   "id": "7178e594-cc29-4897-a34a-fd8a0a11706b",
   "metadata": {},
   "outputs": [],
   "source": [
    "# ordinal encoding for Housing type and Site\n",
    "enc = OrdinalEncoder()\n",
    "df[\"housing_factor\"] = enc.fit_transform(df[[\"Housing type\"]])\n",
    "df[\"site_factor\"] = enc.fit_transform(df[[\"Site\"]])"
   ]
  },
  {
   "cell_type": "code",
   "execution_count": 6,
   "id": "d6f133e9-38f9-4d5a-9e14-52e0fa8a788f",
   "metadata": {},
   "outputs": [],
   "source": [
    "df.to_csv(\"encoded_cleaned.csv\")"
   ]
  }
 ],
 "metadata": {
  "kernelspec": {
   "display_name": "Python 3 (ipykernel)",
   "language": "python",
   "name": "python3"
  },
  "language_info": {
   "codemirror_mode": {
    "name": "ipython",
    "version": 3
   },
   "file_extension": ".py",
   "mimetype": "text/x-python",
   "name": "python",
   "nbconvert_exporter": "python",
   "pygments_lexer": "ipython3",
   "version": "3.9.7"
  }
 },
 "nbformat": 4,
 "nbformat_minor": 5
}
